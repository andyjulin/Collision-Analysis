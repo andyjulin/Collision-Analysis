{
 "cells": [
  {
   "cell_type": "code",
   "execution_count": 1,
   "metadata": {
    "ExecuteTime": {
     "end_time": "2018-08-02T18:14:08.780739Z",
     "start_time": "2018-08-02T18:14:08.414626Z"
    },
    "collapsed": true
   },
   "outputs": [],
   "source": [
    "import re\n",
    "\n",
    "import numpy as np\n",
    "import pandas as pd\n",
    "\n",
    "non_decimal = re.compile(r'[^\\d.]+')\n",
    "\n",
    "data_dir = '../data/'"
   ]
  },
  {
   "cell_type": "code",
   "execution_count": 2,
   "metadata": {
    "ExecuteTime": {
     "end_time": "2018-08-02T18:14:09.064023Z",
     "start_time": "2018-08-02T18:14:08.781994Z"
    },
    "collapsed": true
   },
   "outputs": [],
   "source": [
    "columns = ['District', 'Route', 'County', 'Postmile', 'Description',\n",
    "          'Back_Peak_Hourly', 'Back_Peak_Monthly', 'Back_AADT',\n",
    "          'Ahead_Peak_Hourly', 'Ahead_Peak_Monthly', 'Ahead_AADT',\n",
    "          'Back_Latitude', 'Back_Longitude', 'Ahead_Latitude', 'Ahead_Longitude', 'Year']\n",
    "\n",
    "df_aadt = pd.DataFrame(columns=columns)\n",
    "\n",
    "for year in range(2010, 2017):\n",
    "    df_temp = pd.DataFrame.from_csv(data_dir + 'aadt/AADT%d.csv' % year, \n",
    "                                    index_col=None, header=0)\n",
    "    \n",
    "    df_temp.drop_duplicates(inplace=True)\n",
    "    \n",
    "    df_temp['Year'] = year\n",
    "    \n",
    "    drop_cols = [u'AbsPM_S_W,N,13,11', u'AbsPM_N_E,N,13,11']\n",
    "    for col in drop_cols:\n",
    "        if col in df_temp.columns:\n",
    "            df_temp.drop([col], axis=1, inplace=True)\n",
    "\n",
    "    df_temp.columns = columns\n",
    "\n",
    "    df_aadt = df_aadt.append(df_temp)\n",
    "\n",
    "df_aadt.Description.drop('BREAK IN ROUTE', inplace=True)\n",
    "\n",
    "df_aadt.fillna(0, inplace=True)\n",
    "\n",
    "df_aadt.rename_axis({'Ahead_Latitude': 'Latitude', 'Ahead_Longitude': 'Longitude'}, axis=1, inplace=True)\n",
    "df_aadt.drop(['Back_Latitude', 'Back_Longitude'], axis=1, inplace=True)\n",
    "\n",
    "df_aadt['Segment_ID'] = range(len(df_aadt))"
   ]
  },
  {
   "cell_type": "code",
   "execution_count": 3,
   "metadata": {
    "ExecuteTime": {
     "end_time": "2018-08-02T18:14:09.083247Z",
     "start_time": "2018-08-02T18:14:09.065225Z"
    },
    "collapsed": true
   },
   "outputs": [],
   "source": [
    "seg_def_year = df_aadt.Year.max()\n",
    "\n",
    "c1 = np.zeros((len(df_aadt[df_aadt.Year < seg_def_year]), 1))\n",
    "c2 = np.array(range(1, len(df_aadt[df_aadt.Year == seg_def_year]) + 1))[:, np.newaxis]\n",
    "\n",
    "df_aadt['Segment_Num'] = np.concatenate((c1, c2)).astype(np.int32)"
   ]
  },
  {
   "cell_type": "code",
   "execution_count": 4,
   "metadata": {
    "ExecuteTime": {
     "end_time": "2018-08-02T18:14:09.123932Z",
     "start_time": "2018-08-02T18:14:09.084672Z"
    }
   },
   "outputs": [
    {
     "name": "stdout",
     "output_type": "stream",
     "text": [
      "44289\n"
     ]
    },
    {
     "data": {
      "text/html": [
       "<div>\n",
       "<table border=\"1\" class=\"dataframe\">\n",
       "  <thead>\n",
       "    <tr style=\"text-align: right;\">\n",
       "      <th></th>\n",
       "      <th>District</th>\n",
       "      <th>Route</th>\n",
       "      <th>County</th>\n",
       "      <th>Postmile</th>\n",
       "      <th>Description</th>\n",
       "      <th>Back_Peak_Hourly</th>\n",
       "      <th>Back_Peak_Monthly</th>\n",
       "      <th>Back_AADT</th>\n",
       "      <th>Ahead_Peak_Hourly</th>\n",
       "      <th>Ahead_Peak_Monthly</th>\n",
       "      <th>Ahead_AADT</th>\n",
       "      <th>Latitude</th>\n",
       "      <th>Longitude</th>\n",
       "      <th>Year</th>\n",
       "      <th>Segment_ID</th>\n",
       "      <th>Segment_Num</th>\n",
       "    </tr>\n",
       "  </thead>\n",
       "  <tbody>\n",
       "    <tr>\n",
       "      <th>0</th>\n",
       "      <td>12.0</td>\n",
       "      <td>1</td>\n",
       "      <td>ORA</td>\n",
       "      <td>R0.129</td>\n",
       "      <td>DANA POINT, JCT. RTE. 5</td>\n",
       "      <td>0</td>\n",
       "      <td>0.0</td>\n",
       "      <td>0.0</td>\n",
       "      <td>3750.0</td>\n",
       "      <td>40000.0</td>\n",
       "      <td>37000.0</td>\n",
       "      <td>33.467051</td>\n",
       "      <td>-117.669809</td>\n",
       "      <td>2010.0</td>\n",
       "      <td>0</td>\n",
       "      <td>0</td>\n",
       "    </tr>\n",
       "    <tr>\n",
       "      <th>1</th>\n",
       "      <td>12.0</td>\n",
       "      <td>1</td>\n",
       "      <td>ORA</td>\n",
       "      <td>8.43</td>\n",
       "      <td>LAGUNA BEACH, MOUNTAIN</td>\n",
       "      <td>2850</td>\n",
       "      <td>38500.0</td>\n",
       "      <td>36000.0</td>\n",
       "      <td>2850.0</td>\n",
       "      <td>38500.0</td>\n",
       "      <td>36000.0</td>\n",
       "      <td>33.531752</td>\n",
       "      <td>-117.774872</td>\n",
       "      <td>2010.0</td>\n",
       "      <td>1</td>\n",
       "      <td>0</td>\n",
       "    </tr>\n",
       "    <tr>\n",
       "      <th>2</th>\n",
       "      <td>12.0</td>\n",
       "      <td>1</td>\n",
       "      <td>ORA</td>\n",
       "      <td>9.418</td>\n",
       "      <td>LAGUNA BEACH, RTE. 133 N.</td>\n",
       "      <td>2850</td>\n",
       "      <td>38500.0</td>\n",
       "      <td>36000.0</td>\n",
       "      <td>3600.0</td>\n",
       "      <td>43000.0</td>\n",
       "      <td>40000.0</td>\n",
       "      <td>33.542738</td>\n",
       "      <td>-117.785319</td>\n",
       "      <td>2010.0</td>\n",
       "      <td>2</td>\n",
       "      <td>0</td>\n",
       "    </tr>\n",
       "    <tr>\n",
       "      <th>3</th>\n",
       "      <td>12.0</td>\n",
       "      <td>1</td>\n",
       "      <td>ORA</td>\n",
       "      <td>19.797</td>\n",
       "      <td>NEWPORT BEACH, RTE. 55</td>\n",
       "      <td>4100</td>\n",
       "      <td>50000.0</td>\n",
       "      <td>46000.0</td>\n",
       "      <td>4400.0</td>\n",
       "      <td>42500.0</td>\n",
       "      <td>40000.0</td>\n",
       "      <td>33.621271</td>\n",
       "      <td>-117.929359</td>\n",
       "      <td>2010.0</td>\n",
       "      <td>3</td>\n",
       "      <td>0</td>\n",
       "    </tr>\n",
       "    <tr>\n",
       "      <th>4</th>\n",
       "      <td>12.0</td>\n",
       "      <td>1</td>\n",
       "      <td>ORA</td>\n",
       "      <td>21.549</td>\n",
       "      <td>SANTA ANA RIVER BRIDGE</td>\n",
       "      <td>3550</td>\n",
       "      <td>34000.0</td>\n",
       "      <td>32000.0</td>\n",
       "      <td>4300.0</td>\n",
       "      <td>41500.0</td>\n",
       "      <td>39000.0</td>\n",
       "      <td>33.630667</td>\n",
       "      <td>-117.956623</td>\n",
       "      <td>2010.0</td>\n",
       "      <td>4</td>\n",
       "      <td>0</td>\n",
       "    </tr>\n",
       "  </tbody>\n",
       "</table>\n",
       "</div>"
      ],
      "text/plain": [
       "   District Route County Postmile                Description Back_Peak_Hourly  \\\n",
       "0      12.0     1    ORA   R0.129    DANA POINT, JCT. RTE. 5                0   \n",
       "1      12.0     1    ORA     8.43     LAGUNA BEACH, MOUNTAIN             2850   \n",
       "2      12.0     1    ORA    9.418  LAGUNA BEACH, RTE. 133 N.             2850   \n",
       "3      12.0     1    ORA   19.797     NEWPORT BEACH, RTE. 55             4100   \n",
       "4      12.0     1    ORA   21.549     SANTA ANA RIVER BRIDGE             3550   \n",
       "\n",
       "   Back_Peak_Monthly  Back_AADT  Ahead_Peak_Hourly  Ahead_Peak_Monthly  \\\n",
       "0                0.0        0.0             3750.0             40000.0   \n",
       "1            38500.0    36000.0             2850.0             38500.0   \n",
       "2            38500.0    36000.0             3600.0             43000.0   \n",
       "3            50000.0    46000.0             4400.0             42500.0   \n",
       "4            34000.0    32000.0             4300.0             41500.0   \n",
       "\n",
       "   Ahead_AADT   Latitude   Longitude    Year  Segment_ID  Segment_Num  \n",
       "0     37000.0  33.467051 -117.669809  2010.0           0            0  \n",
       "1     36000.0  33.531752 -117.774872  2010.0           1            0  \n",
       "2     40000.0  33.542738 -117.785319  2010.0           2            0  \n",
       "3     40000.0  33.621271 -117.929359  2010.0           3            0  \n",
       "4     39000.0  33.630667 -117.956623  2010.0           4            0  "
      ]
     },
     "execution_count": 4,
     "metadata": {},
     "output_type": "execute_result"
    }
   ],
   "source": [
    "print len(df_aadt)\n",
    "\n",
    "df_aadt.head()"
   ]
  },
  {
   "cell_type": "code",
   "execution_count": 5,
   "metadata": {
    "ExecuteTime": {
     "end_time": "2018-08-02T18:14:09.140252Z",
     "start_time": "2018-08-02T18:14:09.125609Z"
    },
    "collapsed": true
   },
   "outputs": [],
   "source": [
    "def convert_to_int(x):\n",
    "    try:\n",
    "        return int(x)\n",
    "    except:\n",
    "        s = non_decimal.sub('', str(x))\n",
    "        return int(s) if len(s) > 0 else 0"
   ]
  },
  {
   "cell_type": "code",
   "execution_count": 6,
   "metadata": {
    "ExecuteTime": {
     "end_time": "2018-08-02T18:14:09.155544Z",
     "start_time": "2018-08-02T18:14:09.141617Z"
    },
    "collapsed": true
   },
   "outputs": [],
   "source": [
    "def convert_to_float(x):\n",
    "    try:\n",
    "        return float(x)\n",
    "    except:\n",
    "        s = non_decimal.sub('', str(x))\n",
    "        return float(s) if len(s) > 0 else 0.0"
   ]
  },
  {
   "cell_type": "code",
   "execution_count": 7,
   "metadata": {
    "ExecuteTime": {
     "end_time": "2018-08-02T18:14:09.290193Z",
     "start_time": "2018-08-02T18:14:09.157058Z"
    },
    "collapsed": true
   },
   "outputs": [],
   "source": [
    "df_aadt.District = df_aadt.District.apply(convert_to_int)\n",
    "df_aadt.Year = df_aadt.Year.apply(convert_to_int)\n",
    "df_aadt.Route = df_aadt.Route.apply(convert_to_int)\n",
    "df_aadt.Postmile = df_aadt.Postmile.apply(convert_to_float)\n",
    "\n",
    "df_aadt.Back_Peak_Hourly = df_aadt.Back_Peak_Hourly.apply(convert_to_int)"
   ]
  },
  {
   "cell_type": "code",
   "execution_count": 8,
   "metadata": {
    "ExecuteTime": {
     "end_time": "2018-08-02T18:14:09.307170Z",
     "start_time": "2018-08-02T18:14:09.291421Z"
    },
    "collapsed": true
   },
   "outputs": [],
   "source": [
    "cols = [\n",
    "    'Back_Peak_Hourly', 'Back_Peak_Monthly', 'Back_AADT',\n",
    "    'Ahead_Peak_Hourly', 'Ahead_Peak_Monthly', 'Ahead_AADT',\n",
    "]\n",
    "\n",
    "for col in cols:\n",
    "    df_aadt[col] = df_aadt[col].astype(np.int64)"
   ]
  },
  {
   "cell_type": "code",
   "execution_count": 9,
   "metadata": {
    "ExecuteTime": {
     "end_time": "2018-08-02T18:14:09.342649Z",
     "start_time": "2018-08-02T18:14:09.308850Z"
    }
   },
   "outputs": [
    {
     "name": "stdout",
     "output_type": "stream",
     "text": [
      "44289\n"
     ]
    },
    {
     "data": {
      "text/html": [
       "<div>\n",
       "<table border=\"1\" class=\"dataframe\">\n",
       "  <thead>\n",
       "    <tr style=\"text-align: right;\">\n",
       "      <th></th>\n",
       "      <th>District</th>\n",
       "      <th>Route</th>\n",
       "      <th>County</th>\n",
       "      <th>Postmile</th>\n",
       "      <th>Description</th>\n",
       "      <th>Back_Peak_Hourly</th>\n",
       "      <th>Back_Peak_Monthly</th>\n",
       "      <th>Back_AADT</th>\n",
       "      <th>Ahead_Peak_Hourly</th>\n",
       "      <th>Ahead_Peak_Monthly</th>\n",
       "      <th>Ahead_AADT</th>\n",
       "      <th>Latitude</th>\n",
       "      <th>Longitude</th>\n",
       "      <th>Year</th>\n",
       "      <th>Segment_ID</th>\n",
       "      <th>Segment_Num</th>\n",
       "    </tr>\n",
       "  </thead>\n",
       "  <tbody>\n",
       "    <tr>\n",
       "      <th>0</th>\n",
       "      <td>12</td>\n",
       "      <td>1</td>\n",
       "      <td>ORA</td>\n",
       "      <td>0.129</td>\n",
       "      <td>DANA POINT, JCT. RTE. 5</td>\n",
       "      <td>0</td>\n",
       "      <td>0</td>\n",
       "      <td>0</td>\n",
       "      <td>3750</td>\n",
       "      <td>40000</td>\n",
       "      <td>37000</td>\n",
       "      <td>33.467051</td>\n",
       "      <td>-117.669809</td>\n",
       "      <td>2010</td>\n",
       "      <td>0</td>\n",
       "      <td>0</td>\n",
       "    </tr>\n",
       "    <tr>\n",
       "      <th>1</th>\n",
       "      <td>12</td>\n",
       "      <td>1</td>\n",
       "      <td>ORA</td>\n",
       "      <td>8.430</td>\n",
       "      <td>LAGUNA BEACH, MOUNTAIN</td>\n",
       "      <td>2850</td>\n",
       "      <td>38500</td>\n",
       "      <td>36000</td>\n",
       "      <td>2850</td>\n",
       "      <td>38500</td>\n",
       "      <td>36000</td>\n",
       "      <td>33.531752</td>\n",
       "      <td>-117.774872</td>\n",
       "      <td>2010</td>\n",
       "      <td>1</td>\n",
       "      <td>0</td>\n",
       "    </tr>\n",
       "    <tr>\n",
       "      <th>2</th>\n",
       "      <td>12</td>\n",
       "      <td>1</td>\n",
       "      <td>ORA</td>\n",
       "      <td>9.418</td>\n",
       "      <td>LAGUNA BEACH, RTE. 133 N.</td>\n",
       "      <td>2850</td>\n",
       "      <td>38500</td>\n",
       "      <td>36000</td>\n",
       "      <td>3600</td>\n",
       "      <td>43000</td>\n",
       "      <td>40000</td>\n",
       "      <td>33.542738</td>\n",
       "      <td>-117.785319</td>\n",
       "      <td>2010</td>\n",
       "      <td>2</td>\n",
       "      <td>0</td>\n",
       "    </tr>\n",
       "    <tr>\n",
       "      <th>3</th>\n",
       "      <td>12</td>\n",
       "      <td>1</td>\n",
       "      <td>ORA</td>\n",
       "      <td>19.797</td>\n",
       "      <td>NEWPORT BEACH, RTE. 55</td>\n",
       "      <td>4100</td>\n",
       "      <td>50000</td>\n",
       "      <td>46000</td>\n",
       "      <td>4400</td>\n",
       "      <td>42500</td>\n",
       "      <td>40000</td>\n",
       "      <td>33.621271</td>\n",
       "      <td>-117.929359</td>\n",
       "      <td>2010</td>\n",
       "      <td>3</td>\n",
       "      <td>0</td>\n",
       "    </tr>\n",
       "    <tr>\n",
       "      <th>4</th>\n",
       "      <td>12</td>\n",
       "      <td>1</td>\n",
       "      <td>ORA</td>\n",
       "      <td>21.549</td>\n",
       "      <td>SANTA ANA RIVER BRIDGE</td>\n",
       "      <td>3550</td>\n",
       "      <td>34000</td>\n",
       "      <td>32000</td>\n",
       "      <td>4300</td>\n",
       "      <td>41500</td>\n",
       "      <td>39000</td>\n",
       "      <td>33.630667</td>\n",
       "      <td>-117.956623</td>\n",
       "      <td>2010</td>\n",
       "      <td>4</td>\n",
       "      <td>0</td>\n",
       "    </tr>\n",
       "  </tbody>\n",
       "</table>\n",
       "</div>"
      ],
      "text/plain": [
       "   District  Route County  Postmile                Description  \\\n",
       "0        12      1    ORA     0.129    DANA POINT, JCT. RTE. 5   \n",
       "1        12      1    ORA     8.430     LAGUNA BEACH, MOUNTAIN   \n",
       "2        12      1    ORA     9.418  LAGUNA BEACH, RTE. 133 N.   \n",
       "3        12      1    ORA    19.797     NEWPORT BEACH, RTE. 55   \n",
       "4        12      1    ORA    21.549     SANTA ANA RIVER BRIDGE   \n",
       "\n",
       "   Back_Peak_Hourly  Back_Peak_Monthly  Back_AADT  Ahead_Peak_Hourly  \\\n",
       "0                 0                  0          0               3750   \n",
       "1              2850              38500      36000               2850   \n",
       "2              2850              38500      36000               3600   \n",
       "3              4100              50000      46000               4400   \n",
       "4              3550              34000      32000               4300   \n",
       "\n",
       "   Ahead_Peak_Monthly  Ahead_AADT   Latitude   Longitude  Year  Segment_ID  \\\n",
       "0               40000       37000  33.467051 -117.669809  2010           0   \n",
       "1               38500       36000  33.531752 -117.774872  2010           1   \n",
       "2               43000       40000  33.542738 -117.785319  2010           2   \n",
       "3               42500       40000  33.621271 -117.929359  2010           3   \n",
       "4               41500       39000  33.630667 -117.956623  2010           4   \n",
       "\n",
       "   Segment_Num  \n",
       "0            0  \n",
       "1            0  \n",
       "2            0  \n",
       "3            0  \n",
       "4            0  "
      ]
     },
     "execution_count": 9,
     "metadata": {},
     "output_type": "execute_result"
    }
   ],
   "source": [
    "print len(df_aadt)\n",
    "\n",
    "df_aadt.head()"
   ]
  },
  {
   "cell_type": "code",
   "execution_count": 10,
   "metadata": {
    "ExecuteTime": {
     "end_time": "2018-08-02T18:14:09.361541Z",
     "start_time": "2018-08-02T18:14:09.344481Z"
    },
    "collapsed": true
   },
   "outputs": [],
   "source": [
    "def get_df_segments(df):\n",
    "    df_segments = {}\n",
    "    \n",
    "    # Start by looking only at segments for a given year\n",
    "    for year in df.Year.unique():\n",
    "        df_segments[year] = {}\n",
    "        \n",
    "        df_year = df[df.Year == year]\n",
    "        \n",
    "        # Then filter the collisions to their appropriate routes\n",
    "        for route in df_year.Route.unique():\n",
    "            df_segments[year][route] = {}\n",
    "\n",
    "            df_route = df_year[df_year.Route == route]\n",
    "\n",
    "            # Then filter them to each county to match with the Postmile\n",
    "            for county in df_route.County.unique():\n",
    "                df_segments[year][route][county] = df_route[df_route.County == county]\n",
    "\n",
    "    return df_segments"
   ]
  },
  {
   "cell_type": "code",
   "execution_count": 11,
   "metadata": {
    "ExecuteTime": {
     "end_time": "2018-08-02T18:14:12.006045Z",
     "start_time": "2018-08-02T18:14:09.362952Z"
    },
    "collapsed": true
   },
   "outputs": [],
   "source": [
    "df_segments = get_df_segments(df_aadt)"
   ]
  },
  {
   "cell_type": "code",
   "execution_count": 12,
   "metadata": {
    "ExecuteTime": {
     "end_time": "2018-08-02T18:14:12.021968Z",
     "start_time": "2018-08-02T18:14:12.007275Z"
    },
    "collapsed": true
   },
   "outputs": [],
   "source": [
    "def get_postmile_boundary(row):\n",
    "    # Grab identifying information to locate corresponding segment\n",
    "    year = row.Year\n",
    "    route = row.Route\n",
    "    county = row.County        \n",
    "    \n",
    "    df_segment = df_segments[year][route][county]\n",
    "    \n",
    "    df_border = df_segment[df_segment.Postmile > row.Postmile]    \n",
    "    \n",
    "    return df_border.Postmile.min() if len(df_border) > 0 else 1000"
   ]
  },
  {
   "cell_type": "code",
   "execution_count": 13,
   "metadata": {
    "ExecuteTime": {
     "end_time": "2018-08-02T18:14:40.249378Z",
     "start_time": "2018-08-02T18:14:12.023255Z"
    },
    "collapsed": true
   },
   "outputs": [],
   "source": [
    "df_aadt['Postmile_Boundary'] = df_aadt.apply(get_postmile_boundary, axis=1)"
   ]
  },
  {
   "cell_type": "code",
   "execution_count": 14,
   "metadata": {
    "ExecuteTime": {
     "end_time": "2018-08-02T18:14:40.263655Z",
     "start_time": "2018-08-02T18:14:40.250612Z"
    },
    "collapsed": true
   },
   "outputs": [],
   "source": [
    "def get_postmile_distance(row):\n",
    "    p1 = row.Postmile\n",
    "    p2 = row.Postmile_Boundary\n",
    "    \n",
    "    if p2 < 1000:\n",
    "        return p2 - p1\n",
    "    \n",
    "    year = row.Year\n",
    "    route = row.Route\n",
    "    county = row.County\n",
    "    \n",
    "    df_seg = df_aadt[(df_aadt.Year == year) \n",
    "                   & (df_aadt.Route == route) \n",
    "                   & (df_aadt.County == county)\n",
    "                   & (df_aadt.Postmile_Boundary < 1000)]\n",
    "    \n",
    "    return (df_seg.Postmile_Boundary - df_seg.Postmile).mean()"
   ]
  },
  {
   "cell_type": "code",
   "execution_count": 15,
   "metadata": {
    "ExecuteTime": {
     "end_time": "2018-08-02T18:14:58.352313Z",
     "start_time": "2018-08-02T18:14:40.264781Z"
    },
    "collapsed": true
   },
   "outputs": [],
   "source": [
    "df_aadt['Postmile_Distance'] = df_aadt.apply(get_postmile_distance, axis=1)"
   ]
  },
  {
   "cell_type": "code",
   "execution_count": 16,
   "metadata": {
    "ExecuteTime": {
     "end_time": "2018-08-02T18:14:58.372663Z",
     "start_time": "2018-08-02T18:14:58.353433Z"
    },
    "collapsed": true
   },
   "outputs": [],
   "source": [
    "def get_nearest_segment(row):\n",
    "    year = row.Year\n",
    "    route = row.Route\n",
    "    county = row.County\n",
    "    \n",
    "    if year == seg_def_year:\n",
    "        return row.Segment_Num\n",
    "    \n",
    "    if not route in df_segments[seg_def_year] or not county in df_segments[seg_def_year][route]:\n",
    "        return 0\n",
    "    \n",
    "    df_gps = df_segments[seg_def_year][route][county]\n",
    "    \n",
    "    df_postmile = df_gps[df_gps.Postmile == row.Postmile]\n",
    "    \n",
    "    if len(df_postmile) == 0:\n",
    "        return 0\n",
    "    \n",
    "    gps = zip(df_postmile.Latitude - row.Latitude, df_postmile.Longitude - row.Longitude)\n",
    "        \n",
    "    gps_norm = np.linalg.norm(gps, axis=1)\n",
    "    \n",
    "    if gps_norm.min() > 1e-3:\n",
    "        return 0\n",
    "    \n",
    "    i_min = gps_norm.argmin()\n",
    "    \n",
    "    return df_postmile.iloc[i_min].Segment_Num"
   ]
  },
  {
   "cell_type": "code",
   "execution_count": 17,
   "metadata": {
    "ExecuteTime": {
     "end_time": "2018-08-02T18:15:38.878184Z",
     "start_time": "2018-08-02T18:14:58.373889Z"
    }
   },
   "outputs": [],
   "source": [
    "df_aadt['Segment_Num'] = df_aadt.apply(get_nearest_segment, axis=1)"
   ]
  },
  {
   "cell_type": "code",
   "execution_count": 18,
   "metadata": {
    "ExecuteTime": {
     "end_time": "2018-08-02T18:15:38.894805Z",
     "start_time": "2018-08-02T18:15:38.879502Z"
    }
   },
   "outputs": [
    {
     "name": "stdout",
     "output_type": "stream",
     "text": [
      "Index([u'District', u'Route', u'County', u'Postmile', u'Description',\n",
      "       u'Back_Peak_Hourly', u'Back_Peak_Monthly', u'Back_AADT',\n",
      "       u'Ahead_Peak_Hourly', u'Ahead_Peak_Monthly', u'Ahead_AADT', u'Latitude',\n",
      "       u'Longitude', u'Year', u'Segment_ID', u'Segment_Num',\n",
      "       u'Postmile_Boundary', u'Postmile_Distance'],\n",
      "      dtype='object')\n"
     ]
    }
   ],
   "source": [
    "print df_aadt.columns"
   ]
  },
  {
   "cell_type": "code",
   "execution_count": 19,
   "metadata": {
    "ExecuteTime": {
     "end_time": "2018-08-02T18:15:38.933076Z",
     "start_time": "2018-08-02T18:15:38.897095Z"
    }
   },
   "outputs": [
    {
     "data": {
      "text/html": [
       "<div>\n",
       "<table border=\"1\" class=\"dataframe\">\n",
       "  <thead>\n",
       "    <tr style=\"text-align: right;\">\n",
       "      <th></th>\n",
       "      <th>Segment_ID</th>\n",
       "      <th>Segment_Num</th>\n",
       "      <th>Year</th>\n",
       "      <th>Route</th>\n",
       "      <th>County</th>\n",
       "      <th>District</th>\n",
       "      <th>Postmile</th>\n",
       "      <th>Postmile_Boundary</th>\n",
       "      <th>Postmile_Distance</th>\n",
       "      <th>Latitude</th>\n",
       "      <th>Longitude</th>\n",
       "      <th>Back_Peak_Hourly</th>\n",
       "      <th>Back_Peak_Monthly</th>\n",
       "      <th>Back_AADT</th>\n",
       "      <th>Ahead_Peak_Hourly</th>\n",
       "      <th>Ahead_Peak_Monthly</th>\n",
       "      <th>Ahead_AADT</th>\n",
       "    </tr>\n",
       "  </thead>\n",
       "  <tbody>\n",
       "    <tr>\n",
       "      <th>0</th>\n",
       "      <td>0</td>\n",
       "      <td>1</td>\n",
       "      <td>2010</td>\n",
       "      <td>1</td>\n",
       "      <td>ORA</td>\n",
       "      <td>12</td>\n",
       "      <td>0.129</td>\n",
       "      <td>8.430</td>\n",
       "      <td>8.301</td>\n",
       "      <td>33.467051</td>\n",
       "      <td>-117.669809</td>\n",
       "      <td>0</td>\n",
       "      <td>0</td>\n",
       "      <td>0</td>\n",
       "      <td>3750</td>\n",
       "      <td>40000</td>\n",
       "      <td>37000</td>\n",
       "    </tr>\n",
       "    <tr>\n",
       "      <th>1</th>\n",
       "      <td>1</td>\n",
       "      <td>4</td>\n",
       "      <td>2010</td>\n",
       "      <td>1</td>\n",
       "      <td>ORA</td>\n",
       "      <td>12</td>\n",
       "      <td>8.430</td>\n",
       "      <td>9.418</td>\n",
       "      <td>0.988</td>\n",
       "      <td>33.531752</td>\n",
       "      <td>-117.774872</td>\n",
       "      <td>2850</td>\n",
       "      <td>38500</td>\n",
       "      <td>36000</td>\n",
       "      <td>2850</td>\n",
       "      <td>38500</td>\n",
       "      <td>36000</td>\n",
       "    </tr>\n",
       "    <tr>\n",
       "      <th>2</th>\n",
       "      <td>2</td>\n",
       "      <td>5</td>\n",
       "      <td>2010</td>\n",
       "      <td>1</td>\n",
       "      <td>ORA</td>\n",
       "      <td>12</td>\n",
       "      <td>9.418</td>\n",
       "      <td>19.797</td>\n",
       "      <td>10.379</td>\n",
       "      <td>33.542738</td>\n",
       "      <td>-117.785319</td>\n",
       "      <td>2850</td>\n",
       "      <td>38500</td>\n",
       "      <td>36000</td>\n",
       "      <td>3600</td>\n",
       "      <td>43000</td>\n",
       "      <td>40000</td>\n",
       "    </tr>\n",
       "    <tr>\n",
       "      <th>3</th>\n",
       "      <td>3</td>\n",
       "      <td>11</td>\n",
       "      <td>2010</td>\n",
       "      <td>1</td>\n",
       "      <td>ORA</td>\n",
       "      <td>12</td>\n",
       "      <td>19.797</td>\n",
       "      <td>21.549</td>\n",
       "      <td>1.752</td>\n",
       "      <td>33.621271</td>\n",
       "      <td>-117.929359</td>\n",
       "      <td>4100</td>\n",
       "      <td>50000</td>\n",
       "      <td>46000</td>\n",
       "      <td>4400</td>\n",
       "      <td>42500</td>\n",
       "      <td>40000</td>\n",
       "    </tr>\n",
       "    <tr>\n",
       "      <th>4</th>\n",
       "      <td>4</td>\n",
       "      <td>13</td>\n",
       "      <td>2010</td>\n",
       "      <td>1</td>\n",
       "      <td>ORA</td>\n",
       "      <td>12</td>\n",
       "      <td>21.549</td>\n",
       "      <td>22.090</td>\n",
       "      <td>0.541</td>\n",
       "      <td>33.630667</td>\n",
       "      <td>-117.956623</td>\n",
       "      <td>3550</td>\n",
       "      <td>34000</td>\n",
       "      <td>32000</td>\n",
       "      <td>4300</td>\n",
       "      <td>41500</td>\n",
       "      <td>39000</td>\n",
       "    </tr>\n",
       "  </tbody>\n",
       "</table>\n",
       "</div>"
      ],
      "text/plain": [
       "   Segment_ID  Segment_Num  Year  Route County  District  Postmile  \\\n",
       "0           0            1  2010      1    ORA        12     0.129   \n",
       "1           1            4  2010      1    ORA        12     8.430   \n",
       "2           2            5  2010      1    ORA        12     9.418   \n",
       "3           3           11  2010      1    ORA        12    19.797   \n",
       "4           4           13  2010      1    ORA        12    21.549   \n",
       "\n",
       "   Postmile_Boundary  Postmile_Distance   Latitude   Longitude  \\\n",
       "0              8.430              8.301  33.467051 -117.669809   \n",
       "1              9.418              0.988  33.531752 -117.774872   \n",
       "2             19.797             10.379  33.542738 -117.785319   \n",
       "3             21.549              1.752  33.621271 -117.929359   \n",
       "4             22.090              0.541  33.630667 -117.956623   \n",
       "\n",
       "   Back_Peak_Hourly  Back_Peak_Monthly  Back_AADT  Ahead_Peak_Hourly  \\\n",
       "0                 0                  0          0               3750   \n",
       "1              2850              38500      36000               2850   \n",
       "2              2850              38500      36000               3600   \n",
       "3              4100              50000      46000               4400   \n",
       "4              3550              34000      32000               4300   \n",
       "\n",
       "   Ahead_Peak_Monthly  Ahead_AADT  \n",
       "0               40000       37000  \n",
       "1               38500       36000  \n",
       "2               43000       40000  \n",
       "3               42500       40000  \n",
       "4               41500       39000  "
      ]
     },
     "execution_count": 19,
     "metadata": {},
     "output_type": "execute_result"
    }
   ],
   "source": [
    "cols = [\n",
    "    u'Segment_ID', u'Segment_Num', \n",
    "    u'Year', u'Route', u'County', u'District', \n",
    "    u'Postmile', u'Postmile_Boundary', u'Postmile_Distance',\n",
    "    u'Latitude', u'Longitude', \n",
    "    u'Back_Peak_Hourly', u'Back_Peak_Monthly', u'Back_AADT',\n",
    "    u'Ahead_Peak_Hourly', u'Ahead_Peak_Monthly', u'Ahead_AADT',\n",
    "]\n",
    "\n",
    "df_aadt = df_aadt[cols]\n",
    "df_aadt.head()"
   ]
  },
  {
   "cell_type": "code",
   "execution_count": 20,
   "metadata": {
    "ExecuteTime": {
     "end_time": "2018-08-02T18:15:39.333113Z",
     "start_time": "2018-08-02T18:15:38.934909Z"
    },
    "collapsed": true
   },
   "outputs": [],
   "source": [
    "df_aadt.to_csv(data_dir + 'df_aadt.csv')"
   ]
  },
  {
   "cell_type": "code",
   "execution_count": null,
   "metadata": {
    "collapsed": true
   },
   "outputs": [],
   "source": []
  }
 ],
 "metadata": {
  "kernelspec": {
   "display_name": "Python 2",
   "language": "python",
   "name": "python2"
  },
  "language_info": {
   "codemirror_mode": {
    "name": "ipython",
    "version": 2
   },
   "file_extension": ".py",
   "mimetype": "text/x-python",
   "name": "python",
   "nbconvert_exporter": "python",
   "pygments_lexer": "ipython2",
   "version": "2.7.13"
  }
 },
 "nbformat": 4,
 "nbformat_minor": 2
}
