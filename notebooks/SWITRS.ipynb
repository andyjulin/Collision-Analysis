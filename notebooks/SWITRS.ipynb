{
 "cells": [
  {
   "cell_type": "code",
   "execution_count": 1,
   "metadata": {
    "ExecuteTime": {
     "end_time": "2018-08-02T23:40:39.826199Z",
     "start_time": "2018-08-02T23:40:38.950072Z"
    },
    "collapsed": true
   },
   "outputs": [],
   "source": [
    "%matplotlib inline\n",
    "\n",
    "import sqlite3\n",
    "\n",
    "import numpy as np\n",
    "import pandas as pd\n",
    "from matplotlib import pyplot as plt\n",
    "import seaborn as sns\n",
    "\n",
    "sns.set_context(rc = {'patch.linewidth': 2.0})\n",
    "sns.set_style(\"white\")\n",
    "sns.set_palette(sns.color_palette(\"dark\"))\n",
    "plt.rcParams[\"patch.force_edgecolor\"] = True\n",
    "plt.style.use('seaborn-white')\n",
    "\n",
    "data_dir = '../data/'"
   ]
  },
  {
   "cell_type": "markdown",
   "metadata": {},
   "source": [
    "Data Processing Steps\n",
    "1. Filtering Missing / Invalid Entries\n",
    "2. Cleaning Improper GPS Coordinates\n",
    "3. Match Collisions to Highway Segments\n",
    "\n",
    "Results in `df_switrs.csv`"
   ]
  },
  {
   "cell_type": "code",
   "execution_count": 2,
   "metadata": {
    "ExecuteTime": {
     "end_time": "2018-08-02T23:40:41.744899Z",
     "start_time": "2018-08-02T23:40:41.705238Z"
    },
    "collapsed": true
   },
   "outputs": [],
   "source": [
    "def get_sql_df(query, sql_file = data_dir + \"switrs.sqlite3\"):\n",
    "    \"\"\"Runs a SQL query over a SQLite database to extract a DataFrame.\"\"\"\n",
    "\n",
    "    print 'Running SQL query...'\n",
    "\n",
    "    with sqlite3.connect(sql_file) as conn:\n",
    "        df = pd.read_sql_query(query, conn, parse_dates=get_date_columns(query))\n",
    "\n",
    "        return df\n",
    "    \n",
    "def get_date_columns(query):\n",
    "    \"\"\"Find fields in query to parse as date columns for the DataFrame.\"\"\"\n",
    "\n",
    "    fields = [\"Collision_Date\", \"Process_Date\"]\n",
    "\n",
    "    dates = [f for f in fields if f in query]\n",
    "\n",
    "    return dates if dates else None\n",
    "\n",
    "\n",
    "def get_time_col(df):\n",
    "    \"\"\"Split time string into an int array.\"\"\"\n",
    "\n",
    "    return df.str.split(':', n=3, expand=True).apply(pd.Series).astype(np.int32)"
   ]
  },
  {
   "cell_type": "code",
   "execution_count": 4,
   "metadata": {
    "ExecuteTime": {
     "end_time": "2018-08-02T23:40:44.583644Z",
     "start_time": "2018-08-02T23:40:44.567205Z"
    },
    "collapsed": true
   },
   "outputs": [],
   "source": [
    "main_cols = [\n",
    "    'Caltrans_County', 'Caltrans_District', \n",
    "    'State_Route', 'Side_of_Highway', \n",
    "    'Postmile', 'Latitude', 'Longitude', \n",
    "    'Collision_Date', 'Collision_Time'\n",
    "]\n",
    "\n",
    "query = \"SELECT %s FROM Collision\" % ', '.join(main_cols)"
   ]
  },
  {
   "cell_type": "code",
   "execution_count": 5,
   "metadata": {
    "ExecuteTime": {
     "end_time": "2018-08-02T23:41:33.211396Z",
     "start_time": "2018-08-02T23:40:46.642859Z"
    }
   },
   "outputs": [
    {
     "name": "stdout",
     "output_type": "stream",
     "text": [
      "Running SQL query...\n",
      "\n",
      "Total Collisions: 7506133\n",
      "From 2001-01-01 to 2016-12-31\n"
     ]
    }
   ],
   "source": [
    "df_switrs = get_sql_df(query)\n",
    "\n",
    "print '\\nTotal Collisions:', len(df_switrs)\n",
    "print 'From', df_switrs.Collision_Date.dt.date.min(), \\\n",
    "      'to',   df_switrs.Collision_Date.dt.date.max()\n",
    "    \n",
    "df_switrs.head()"
   ]
  },
  {
   "cell_type": "code",
   "execution_count": 6,
   "metadata": {
    "ExecuteTime": {
     "end_time": "2018-08-02T23:43:30.808585Z",
     "start_time": "2018-08-02T23:41:38.218542Z"
    }
   },
   "outputs": [
    {
     "name": "stdout",
     "output_type": "stream",
     "text": [
      "               Caltrans_County -   object - 5002412\n",
      "             Caltrans_District -  float64 - 4668437\n",
      "                   State_Route -  float64 - 4668438\n",
      "               Side_Of_Highway -   object - 5002412\n",
      "                      Postmile -  float64 - 4668438\n",
      "                      Latitude -  float64 - 6055489\n",
      "                     Longitude -  float64 - 6055489\n",
      "                Collision_Date - datetime64[ns] - 0\n",
      "                Collision_Time -   object - 63770\n"
     ]
    }
   ],
   "source": [
    "for col in df_switrs:\n",
    "    print '% 30s (%8s) - null: %d' % (col, df_switrs[col].dtype, sum(df_switrs[col].isnull()))"
   ]
  },
  {
   "cell_type": "code",
   "execution_count": 13,
   "metadata": {
    "ExecuteTime": {
     "end_time": "2018-08-02T23:45:14.984563Z",
     "start_time": "2018-08-02T23:45:14.946479Z"
    }
   },
   "outputs": [
    {
     "name": "stderr",
     "output_type": "stream",
     "text": [
      "/home/julin/Programs/anaconda2/lib/python2.7/site-packages/pandas/core/generic.py:3416: UserWarning: the \"axis\" argument is deprecated and will be removed inv0.13; this argument has no effect\n",
      "  warn('the \"axis\" argument is deprecated and will be removed in'\n"
     ]
    }
   ],
   "source": [
    "df_switrs.State_Route.replace(0, np.nan, axis=1, inplace=True)"
   ]
  },
  {
   "cell_type": "code",
   "execution_count": 7,
   "metadata": {
    "ExecuteTime": {
     "end_time": "2018-08-02T23:44:15.861057Z",
     "start_time": "2018-08-02T23:44:15.840628Z"
    },
    "collapsed": true
   },
   "outputs": [],
   "source": [
    "pop = [\n",
    "    [2001,34485623], [2002,34876194], [2003,35251107], [2004,35558419], \n",
    "    [2005,35795255], [2006,35979208], [2007,36226122], [2008,36580371], \n",
    "    [2009,36961664], [2010,37253956], [2011,37701901], [2012,38062780], \n",
    "    [2013,38431393], [2014,38802500], [2015,39032444], [2016,39296476],\n",
    "]\n",
    "\n",
    "pop_years = [p[0] for p in pop]\n",
    "pop_pops  = [p[1] for p in pop]"
   ]
  },
  {
   "cell_type": "code",
   "execution_count": 8,
   "metadata": {
    "ExecuteTime": {
     "end_time": "2018-08-02T23:44:18.249147Z",
     "start_time": "2018-08-02T23:44:18.224754Z"
    },
    "collapsed": true
   },
   "outputs": [],
   "source": [
    "def show_accidents_per_year(df_col):    \n",
    "    fig, ax1 = plt.subplots(figsize=(12, 6))\n",
    "    plt.title('Total Accidents per Year', fontsize=24)\n",
    "    plt.xlabel('Year', fontsize=20)\n",
    "    plt.xticks(fontsize=16)\n",
    "    plt.ylabel('Total Accidents', fontsize=20)\n",
    "    plt.yticks(fontsize=14)\n",
    "        \n",
    "    for df in [df_col, df_col[~df_col.State_Route.isnull()]]:\n",
    "        ax1.hist(df.Collision_Date.dt.year, \n",
    "             bins=range(2001, 2018), align='left');    \n",
    "\n",
    "    ax2 = ax1.twinx() \n",
    "    \n",
    "    ax2.plot(pop_years, np.array(pop_pops) / 1e6, c='red')\n",
    "    plt.ylabel('Total Population [M]', fontsize=20)\n",
    "    plt.yticks(fontsize=14)"
   ]
  },
  {
   "cell_type": "code",
   "execution_count": 15,
   "metadata": {
    "ExecuteTime": {
     "end_time": "2018-08-02T23:45:23.910411Z",
     "start_time": "2018-08-02T23:45:22.834156Z"
    }
   },
   "outputs": [
    {
     "data": {
      "image/png": "[encoded data removed]",
      "text/plain": [
       "<matplotlib.figure.Figure at 0x7fb386ff1e90>"
      ]
     },
     "metadata": {},
     "output_type": "display_data"
    }
   ],
   "source": [
    "show_accidents_per_year(df_switrs)"
   ]
  },
  {
   "cell_type": "code",
   "execution_count": 156,
   "metadata": {
    "ExecuteTime": {
     "end_time": "2018-08-03T04:13:42.246787Z",
     "start_time": "2018-08-03T04:13:41.934151Z"
    },
    "collapsed": true
   },
   "outputs": [],
   "source": [
    "df_switrs = df_switrs[(df_switrs.Collision_Date.dt.year >= 2010)\n",
    "                    & (df_switrs.Collision_Date.dt.year <= 2015)\n",
    "                    & (~df_switrs.State_Route.isnull())\n",
    "                    & (~df_switrs.Caltrans_County.isnull())\n",
    "                    & (~df_switrs.Side_Of_Highway.isnull())\n",
    "                    & (~df_switrs.Collision_Time.isnull())]"
   ]
  },
  {
   "cell_type": "code",
   "execution_count": 159,
   "metadata": {
    "ExecuteTime": {
     "end_time": "2018-08-03T04:14:28.349751Z",
     "start_time": "2018-08-03T04:14:28.033851Z"
    }
   },
   "outputs": [
    {
     "name": "stdout",
     "output_type": "stream",
     "text": [
      "2010 - 155154\n",
      "2011 - 151365\n",
      "2012 - 146832\n",
      "2013 - 147884\n",
      "2014 - 127436\n",
      "2015 - 107746\n"
     ]
    }
   ],
   "source": [
    "for year in range(2010, 2016):\n",
    "    print '%s - %d' %(year, len(df_switrs[df_switrs.Collision_Date.dt.year == year]))"
   ]
  },
  {
   "cell_type": "code",
   "execution_count": 158,
   "metadata": {
    "ExecuteTime": {
     "end_time": "2018-08-03T04:14:11.978998Z",
     "start_time": "2018-08-03T04:14:06.031983Z"
    },
    "collapsed": true
   },
   "outputs": [],
   "source": [
    "df_switrs['Forward'] = df_switrs.Side_Of_Highway.apply(lambda x: x in ['N', 'E'])\n",
    "\n",
    "df_switrs['Collision_Year']      = df_switrs.Collision_Date.dt.year\n",
    "df_switrs['Collision_Month']     = df_switrs.Collision_Date.dt.month\n",
    "df_switrs['Collision_Day']       = df_switrs.Collision_Date.dt.day\n",
    "df_switrs['Collision_DayOfWeek'] = df_switrs.Collision_Date.dt.dayofweek \n",
    "\n",
    "df_switrs['Collision_Hour']   = get_time_col(df_switrs.Collision_Time)[0]\n",
    "df_switrs['Collision_Minute'] = get_time_col(df_switrs.Collision_Time)[1]\n",
    "\n",
    "df_switrs['Collision_Hours']   = df_switrs.Collision_Hour + df_switrs.Collision_Minute / 60.0\n",
    "df_switrs['Collision_Minutes'] = df_switrs.Collision_Hour * 60.0 + df_switrs.Collision_Minute"
   ]
  },
  {
   "cell_type": "code",
   "execution_count": 190,
   "metadata": {
    "ExecuteTime": {
     "end_time": "2018-08-03T04:44:00.416314Z",
     "start_time": "2018-08-03T04:44:00.397743Z"
    },
    "collapsed": true
   },
   "outputs": [],
   "source": [
    "def get_route_list(df):\n",
    "    route_list = {}\n",
    "    \n",
    "    # Start by looking only at segments for a given year\n",
    "    for year in df.Year.unique():\n",
    "        route_list[year] = {}\n",
    "        \n",
    "        df_year = df[df.Year == year]\n",
    "        \n",
    "        # Then filter the collisions to their appropriate routes\n",
    "        for route in df_year.Route.unique():\n",
    "            route_list[year][route] = {}\n",
    "\n",
    "            df_route = df_year[df_year.Route == route]\n",
    "\n",
    "            # Then filter them to each county to match with the Postmile\n",
    "            for county in df_route.County.unique():\n",
    "                route_list[year][route][county] = df_route[df_route.County == county]\n",
    "\n",
    "    return route_list"
   ]
  },
  {
   "cell_type": "code",
   "execution_count": 191,
   "metadata": {
    "ExecuteTime": {
     "end_time": "2018-08-03T04:44:00.790071Z",
     "start_time": "2018-08-03T04:44:00.756848Z"
    },
    "collapsed": true
   },
   "outputs": [],
   "source": [
    "def get_highway_segment(data, route_list):\n",
    "    \"\"\"Assign a collision to a highway segment based on its Postmile code.\"\"\"\n",
    "    \n",
    "    global print_year\n",
    "    \n",
    "    # Grab identifying information to locate corresponding segment\n",
    "    year = data.Collision_Year\n",
    "    route = data.State_Route\n",
    "    county = data.Caltrans_County        \n",
    "    \n",
    "    if print_year != year:\n",
    "        print 'Processing Collisions for %s' % year\n",
    "        print_year = year    \n",
    "    \n",
    "    # There's a lot of collisions, so this gives a rough idea of progress\n",
    "    if not (data.name % 10000):\n",
    "        print '  Processing Event %8d' % data.name\n",
    "    \n",
    "    # Just in case, we'll default to an invalid segment\n",
    "    last_segment = -1\n",
    "    \n",
    "    # If for some reason this isn't a valid road, give it an invalid segment number (-1)\n",
    "    if year not in route_list \\\n",
    "    or route not in route_list[year] \\\n",
    "    or county not in route_list[year][route]:\n",
    "        return last_segment     \n",
    "    \n",
    "    # Now we look at all the segments on the specific Route in the specific County\n",
    "    for segment, row in route_list[year][route][county].iterrows():   \n",
    "        \n",
    "        # Don't bother checking invalid segments\n",
    "        if np.isnan(row.Postmile):\n",
    "            continue\n",
    "                \n",
    "        # Once it goes past the value, we assign the collision to the most recent segment\n",
    "        # (We ignore prefix, so it's not completely accurate, but it's reasonably close!)\n",
    "        if row.Postmile > data.Postmile:\n",
    "            return last_segment\n",
    "            \n",
    "        # Keep track of the last valid segment\n",
    "        last_segment = row.Segment_ID"
   ]
  },
  {
   "cell_type": "code",
   "execution_count": 192,
   "metadata": {
    "ExecuteTime": {
     "end_time": "2018-08-03T05:05:49.626615Z",
     "start_time": "2018-08-03T04:44:45.861076Z"
    }
   },
   "outputs": [
    {
     "name": "stdout",
     "output_type": "stream",
     "text": [
      "Processing Collisions for 2010\n",
      "  Processing Event  4580000\n",
      "  Processing Event  4590000\n",
      "  Processing Event  4630000\n",
      "  Processing Event  4660000\n",
      "  Processing Event  4680000\n",
      "  Processing Event  4690000\n",
      "  Processing Event  4700000\n",
      "  Processing Event  4720000\n",
      "  Processing Event  4730000\n",
      "  Processing Event  4750000\n",
      "  Processing Event  4760000\n",
      "  Processing Event  4780000\n",
      "  Processing Event  4790000\n",
      "  Processing Event  4820000\n",
      "  Processing Event  4840000\n",
      "  Processing Event  4850000\n",
      "  Processing Event  4880000\n",
      "  Processing Event  4920000\n",
      "  Processing Event  4940000\n",
      "  Processing Event  4950000\n",
      "  Processing Event  4960000\n",
      "  Processing Event  4970000\n",
      "Processing Collisions for 2011\n",
      "  Processing Event  5020000\n",
      "  Processing Event  5030000\n",
      "  Processing Event  5040000\n",
      "  Processing Event  5050000\n",
      "  Processing Event  5060000\n",
      "  Processing Event  5080000\n",
      "  Processing Event  5100000\n",
      "  Processing Event  5120000\n",
      "  Processing Event  5130000\n",
      "  Processing Event  5170000\n",
      "  Processing Event  5180000\n",
      "  Processing Event  5190000\n",
      "  Processing Event  5230000\n",
      "  Processing Event  5250000\n",
      "  Processing Event  5270000\n",
      "  Processing Event  5280000\n",
      "  Processing Event  5320000\n",
      "  Processing Event  5340000\n",
      "  Processing Event  5350000\n",
      "  Processing Event  5370000\n",
      "Processing Collisions for 2012\n",
      "  Processing Event  5400000\n",
      "  Processing Event  5430000\n",
      "  Processing Event  5450000\n",
      "  Processing Event  5460000\n",
      "  Processing Event  5470000\n",
      "  Processing Event  5510000\n",
      "  Processing Event  5530000\n",
      "  Processing Event  5560000\n",
      "  Processing Event  5600000\n",
      "  Processing Event  5640000\n",
      "  Processing Event  5650000\n",
      "  Processing Event  5660000\n",
      "  Processing Event  5690000\n",
      "  Processing Event  5720000\n",
      "  Processing Event  5730000\n",
      "  Processing Event  5740000\n",
      "  Processing Event  5790000\n",
      "Processing Collisions for 2013\n",
      "  Processing Event  5810000\n",
      "  Processing Event  5820000\n",
      "  Processing Event  5830000\n",
      "  Processing Event  5840000\n",
      "  Processing Event  5890000\n",
      "  Processing Event  5940000\n",
      "  Processing Event  5950000\n",
      "  Processing Event  5970000\n",
      "  Processing Event  5980000\n",
      "  Processing Event  6010000\n",
      "  Processing Event  6100000\n",
      "  Processing Event  6110000\n",
      "  Processing Event  6130000\n",
      "  Processing Event  6160000\n",
      "Processing Collisions for 2014\n",
      "  Processing Event  6210000\n",
      "  Processing Event  6220000\n",
      "  Processing Event  6290000\n",
      "  Processing Event  6330000\n",
      "  Processing Event  6340000\n",
      "  Processing Event  6360000\n",
      "  Processing Event  6370000\n",
      "  Processing Event  6410000\n",
      "  Processing Event  6440000\n",
      "  Processing Event  6520000\n",
      "  Processing Event  6570000\n",
      "Processing Collisions for 2015\n",
      "  Processing Event  6580000\n",
      "  Processing Event  6590000\n",
      "  Processing Event  6610000\n",
      "  Processing Event  6650000\n",
      "  Processing Event  6660000\n",
      "  Processing Event  6670000\n",
      "  Processing Event  6720000\n",
      "  Processing Event  6790000\n",
      "  Processing Event  6830000\n",
      "  Processing Event  6840000\n",
      "  Processing Event  6910000\n",
      "Complete!\n"
     ]
    }
   ],
   "source": [
    "df_aadt = pd.DataFrame.from_csv(data_dir + 'df_aadt.csv')\n",
    "\n",
    "min_year = df_aadt.Year.min()\n",
    "max_year = df_aadt.Year.max()\n",
    "\n",
    "df_switrs = df_switrs[(df_switrs.Collision_Year >= min_year) \n",
    "                    & (df_switrs.Collision_Year <= max_year)]\n",
    "\n",
    "route_list = get_route_list(df_aadt)\n",
    "\n",
    "print_year = min_year - 1\n",
    "\n",
    "df_switrs['Segment_ID'] = df_switrs.apply(get_highway_segment, \n",
    "                                          axis=1, args=(route_list, ))\n",
    "df_switrs.Segment_ID.fillna(-1, inplace=True)\n",
    "df_switrs.Segment_ID = df_switrs.Segment_ID.astype(np.int64)\n",
    "\n",
    "print 'Complete!'"
   ]
  },
  {
   "cell_type": "code",
   "execution_count": 193,
   "metadata": {
    "ExecuteTime": {
     "end_time": "2018-08-03T05:07:52.691311Z",
     "start_time": "2018-08-03T05:07:52.664689Z"
    }
   },
   "outputs": [
    {
     "name": "stdout",
     "output_type": "stream",
     "text": [
      "save_cols = [\n",
      "    'Caltrans_County',\n",
      "    'Caltrans_District',\n",
      "    'State_Route',\n",
      "    'Side_Of_Highway',\n",
      "    'Postmile',\n",
      "    'Latitude',\n",
      "    'Longitude',\n",
      "    'Collision_Date',\n",
      "    'Collision_Time',\n",
      "    'GPS_Valid',\n",
      "    'Forward',\n",
      "    'Collision_Year',\n",
      "    'Collision_Month',\n",
      "    'Collision_Day',\n",
      "    'Collision_DayOfWeek',\n",
      "    'Collision_Hour',\n",
      "    'Collision_Minute',\n",
      "    'Collision_Hours',\n",
      "    'Collision_Minutes',\n",
      "    'Segment_ID',\n",
      "]\n"
     ]
    }
   ],
   "source": [
    "print 'save_cols = ['\n",
    "for col in df_switrs.columns:\n",
    "    print \"    '%s',\" % col\n",
    "print ']'"
   ]
  },
  {
   "cell_type": "code",
   "execution_count": 194,
   "metadata": {
    "ExecuteTime": {
     "end_time": "2018-08-03T05:08:28.950626Z",
     "start_time": "2018-08-03T05:08:28.932174Z"
    },
    "collapsed": true
   },
   "outputs": [],
   "source": [
    "save_cols = [\n",
    "    'Segment_ID',\n",
    "    'State_Route',\n",
    "    'Caltrans_District',\n",
    "    'Caltrans_County',\n",
    "    'Postmile',\n",
    "    'Side_Of_Highway',\n",
    "    'Forward',\n",
    "#     'State_Highway_Indicator',\n",
    "#     'Route_Suffix',\n",
    "#     'Location_Type',\n",
    "    'Latitude',\n",
    "    'Longitude',\n",
    "#     'Collision_Date',\n",
    "#     'Collision_Time',\n",
    "    'Collision_Year',\n",
    "    'Collision_Month',\n",
    "    'Collision_Day',\n",
    "    'Collision_DayOfWeek',\n",
    "    'Collision_Hour',\n",
    "    'Collision_Minute',\n",
    "    'Collision_Hours',\n",
    "    'Collision_Minutes',\n",
    "]"
   ]
  },
  {
   "cell_type": "code",
   "execution_count": 195,
   "metadata": {
    "ExecuteTime": {
     "end_time": "2018-08-03T05:08:41.147589Z",
     "start_time": "2018-08-03T05:08:34.730402Z"
    },
    "collapsed": true
   },
   "outputs": [],
   "source": [
    "df_switrs[save_cols].to_csv(data_dir + 'df_switrs.csv')"
   ]
  },
  {
   "cell_type": "code",
   "execution_count": null,
   "metadata": {
    "ExecuteTime": {
     "end_time": "2018-08-02T02:40:49.582035Z",
     "start_time": "2018-08-02T02:38:54.362Z"
    },
    "collapsed": true
   },
   "outputs": [],
   "source": [
    "# def get_state_loc(row):           \n",
    "#     gps = (row.Latitude, row.Longitude)    \n",
    "#     loc = geolocater.reverse(gps)\n",
    "    \n",
    "#     if not loc.address or not loc.raw['address'] or not loc.raw['address']['state']:\n",
    "#         return None\n",
    "    \n",
    "#     return loc.raw['address']['state'] "
   ]
  },
  {
   "cell_type": "code",
   "execution_count": null,
   "metadata": {
    "ExecuteTime": {
     "end_time": "2018-08-02T02:40:49.582984Z",
     "start_time": "2018-08-02T02:38:54.364Z"
    },
    "collapsed": true
   },
   "outputs": [],
   "source": [
    "# df_gps = df_switrs[~df_switrs.Latitude.isnull()]\n",
    "# geolocater = Nominatim()\n",
    "\n",
    "# for i in xrange(10):\n",
    "#     gps = tuple(df_gps.iloc[i][['Latitude', 'Longitude']].values)\n",
    "    \n",
    "#     print get_state_loc(gps)"
   ]
  }
 ],
 "metadata": {
  "kernelspec": {
   "display_name": "Python 2",
   "language": "python",
   "name": "python2"
  },
  "language_info": {
   "codemirror_mode": {
    "name": "ipython",
    "version": 2
   },
   "file_extension": ".py",
   "mimetype": "text/x-python",
   "name": "python",
   "nbconvert_exporter": "python",
   "pygments_lexer": "ipython2",
   "version": "2.7.13"
  }
 },
 "nbformat": 4,
 "nbformat_minor": 2
}
