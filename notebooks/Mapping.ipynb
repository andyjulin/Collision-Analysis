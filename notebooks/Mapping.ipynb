{
 "cells": [
  {
   "cell_type": "code",
   "execution_count": 1,
   "metadata": {
    "ExecuteTime": {
     "end_time": "2018-08-02T03:20:34.916949Z",
     "start_time": "2018-08-02T03:20:34.466308Z"
    },
    "collapsed": true
   },
   "outputs": [],
   "source": [
    "import pandas as pd\n",
    "from gmplot import gmplot\n",
    "\n",
    "data_dir = '../data/'\n",
    "maps_dir = '../maps/'"
   ]
  },
  {
   "cell_type": "code",
   "execution_count": 2,
   "metadata": {
    "ExecuteTime": {
     "end_time": "2018-08-02T03:20:36.880886Z",
     "start_time": "2018-08-02T03:20:34.918458Z"
    },
    "collapsed": true
   },
   "outputs": [],
   "source": [
    "df_switrs = pd.DataFrame.from_csv(data_dir + 'df_switrs.csv')"
   ]
  },
  {
   "cell_type": "code",
   "execution_count": 3,
   "metadata": {
    "ExecuteTime": {
     "end_time": "2018-08-02T03:20:37.007209Z",
     "start_time": "2018-08-02T03:20:36.882430Z"
    },
    "collapsed": true
   },
   "outputs": [],
   "source": [
    "df_features = pd.DataFrame.from_csv(data_dir + 'df_aadt.csv')"
   ]
  },
  {
   "cell_type": "code",
   "execution_count": 5,
   "metadata": {
    "ExecuteTime": {
     "end_time": "2018-08-02T03:20:37.034226Z",
     "start_time": "2018-08-02T03:20:37.022868Z"
    },
    "collapsed": true
   },
   "outputs": [],
   "source": [
    "def get_lats_lngs(df):\n",
    "    return zip(*df[~df.Latitude.isnull()][['Latitude', 'Longitude']].values)"
   ]
  },
  {
   "cell_type": "code",
   "execution_count": 20,
   "metadata": {
    "ExecuteTime": {
     "end_time": "2018-08-03T04:00:30.906182Z",
     "start_time": "2018-08-03T04:00:30.065400Z"
    },
    "collapsed": true
   },
   "outputs": [],
   "source": [
    "gmap = gmplot.GoogleMapPlotter(37.5, -120.3, 6)\n",
    "\n",
    "lats, lngs = get_lats_lngs(df_switrs[df_switrs.Collision_Year == 2014].sample(6400, random_state=4))\n",
    "\n",
    "# Polygon Points\n",
    "p1 = (40.2, -124.7)\n",
    "p2 = (34.4, -120.6)\n",
    "p3 = (32.6, -117.2)\n",
    "p4 = (39.0, -120.0)\n",
    "p5 = (34.4, -113.9)\n",
    "p6 = (32.7, -114.5)\n",
    "p7 = (42.0, -120.0)\n",
    "p8 = (42.0, -124.2)\n",
    "\n",
    "# Polygon Boundary\n",
    "lat1, lng1 = zip(*[p1, p2, p3, p6, p5, p4, p7, p8, p1])\n",
    "\n",
    "gmap.plot(lat1, lng1, 'cornflowerblue', edge_width=5)\n",
    "gmap.scatter(lats, lngs, color='#FF0000', symbol='o', marker=False, s=4096)\n",
    "# gmap.heatmap(lats, lngs)#, color='#FF0000')#, size=40)#, marker=False)\n",
    "\n",
    "gmap.draw(maps_dir + \"collisions.html\")"
   ]
  },
  {
   "cell_type": "code",
   "execution_count": 7,
   "metadata": {
    "ExecuteTime": {
     "end_time": "2018-08-02T03:20:45.448658Z",
     "start_time": "2018-08-02T03:20:44.320281Z"
    },
    "collapsed": true
   },
   "outputs": [],
   "source": [
    "gmap = gmplot.GoogleMapPlotter(37.5, -120.3, 6)\n",
    "\n",
    "lats, lngs = get_lats_lngs(df_features[df_features.Year == 2014])\n",
    "\n",
    "gmap.scatter(lats, lngs, color='#0000FF', symbol='o', marker=False, s=4096)\n",
    "\n",
    "gmap.draw(maps_dir + \"segments.html\")"
   ]
  },
  {
   "cell_type": "code",
   "execution_count": null,
   "metadata": {
    "collapsed": true
   },
   "outputs": [],
   "source": []
  }
 ],
 "metadata": {
  "kernelspec": {
   "display_name": "Python 3",
   "language": "python",
   "name": "python3"
  },
  "language_info": {
   "codemirror_mode": {
    "name": "ipython",
    "version": 2
   },
   "file_extension": ".py",
   "mimetype": "text/x-python",
   "name": "python",
   "nbconvert_exporter": "python",
   "pygments_lexer": "ipython2",
   "version": "2.7.13"
  }
 },
 "nbformat": 4,
 "nbformat_minor": 2
}
